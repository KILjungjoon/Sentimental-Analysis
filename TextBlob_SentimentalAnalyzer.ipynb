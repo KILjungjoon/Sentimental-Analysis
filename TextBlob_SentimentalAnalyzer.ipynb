{
  "nbformat": 4,
  "nbformat_minor": 0,
  "metadata": {
    "colab": {
      "provenance": [],
      "mount_file_id": "1AeUmMYcVONJ9-QmfY9KBAdaXp1iMndMH",
      "authorship_tag": "ABX9TyN7eq+sHHouYTQv+5yECsKS",
      "include_colab_link": true
    },
    "kernelspec": {
      "name": "python3",
      "display_name": "Python 3"
    },
    "language_info": {
      "name": "python"
    }
  },
  "cells": [
    {
      "cell_type": "markdown",
      "metadata": {
        "id": "view-in-github",
        "colab_type": "text"
      },
      "source": [
        "<a href=\"https://colab.research.google.com/github/KILjungjoon/Sentimental-Analysis/blob/main/TextBlob_SentimentalAnalyzer.ipynb\" target=\"_parent\"><img src=\"https://colab.research.google.com/assets/colab-badge.svg\" alt=\"Open In Colab\"/></a>"
      ]
    },
    {
      "cell_type": "code",
      "source": [
        "text1='''Starry, starry night\n",
        "Paint your palette blue and gray\n",
        "Look out on a summer's day\n",
        "With eyes that know the darkness in my soul\n",
        "Shadows on the hills\n",
        "Sketch the trees and the daffodils\n",
        "Catch the breeze and the winter chills\n",
        "In colors on the snowy, linen land\n",
        "Now, I understand what you tried to say to me\n",
        "And how you suffered for your sanity\n",
        "And how you tried to set them free\n",
        "They would not listen, they did not know how\n",
        "Perhaps they'll listen now\n",
        "Starry, starry night\n",
        "Flaming flowers that brightly blaze\n",
        "Swirling clouds in violet haze\n",
        "Reflect in Vincent's eyes of china blue\n",
        "Colors changing hue\n",
        "Morning fields of amber grain\n",
        "Weathered faces lined in pain\n",
        "Are soothed beneath the artist's loving hand\n",
        "Now, I understand, what you tried to say to me\n",
        "How you suffered for your sanity\n",
        "How you tried to set them free\n",
        "They would not listen, they did not know how\n",
        "Perhaps they'll listen now\n",
        "For they could not love you\n",
        "But still your love was true\n",
        "And when no hope was left inside\n",
        "On that starry, starry night\n",
        "You took your life as lovers often do\n",
        "But I could have told you, Vincent\n",
        "This world was never meant for one\n",
        "As beautiful as you\n",
        "Starry, starry night\n",
        "Portraits hung in empty halls\n",
        "Frameless heads on nameless walls\n",
        "With eyes that watch the world and can't forget\n",
        "Like the strangers that you've met\n",
        "The ragged men in ragged clothes\n",
        "The silver thorn of bloody rose\n",
        "Lie crushed and broken on the virgin snow\n",
        "Now, I think I know what you tried to say to me\n",
        "How you suffered for your sanity\n",
        "How you tried to set them free\n",
        "They would not listen, they're not listening still\n",
        "Perhaps they never will'''\n",
        "text2='''I found a love, for me\n",
        "Darling, just dive right in and follow my lead\n",
        "Well, I found a girl, beautiful and sweet\n",
        "Oh, I never knew you were the someone waiting for me\n",
        "'Cause we were just kids when we fell in love\n",
        "Not knowing what it was\n",
        "I will not give you up this time\n",
        "But darling, just kiss me slow\n",
        "Your heart is all I own\n",
        "And in your eyes, you're holding mine\n",
        "Baby, I'm dancing in the dark\n",
        "With you between my arms\n",
        "Barefoot on the grass\n",
        "Listening to our favourite song\n",
        "When you said you looked a mess\n",
        "I whispered underneath my breath\n",
        "But you heard it\n",
        "Darling, you look perfect tonight\n",
        "Well, I found a woman, stronger than anyone I know\n",
        "She shares my dreams, I hope that someday I'll share her home\n",
        "I found a lover, to carry more than just my secrets\n",
        "To carry love, to carry children of our own\n",
        "We are still kids, but we're so in love\n",
        "Fighting against all odds\n",
        "I know we'll be alright this time\n",
        "Darling, just hold my hand\n",
        "Be my girl, I'll be your man\n",
        "I see my future in your eyes\n",
        "Baby, I'm dancing in the dark\n",
        "With you between my arms\n",
        "Barefoot on the grass\n",
        "Listening to our favorite song\n",
        "When I saw you in that dress, looking so beautiful\n",
        "I don't deserve this\n",
        "Darling, you look perfect tonight\n",
        "Baby, I'm dancing in the dark\n",
        "With you between my arms\n",
        "Barefoot on the grass\n",
        "Listening to our favorite song\n",
        "I have faith in what I see\n",
        "Now I know I have met an angel in person\n",
        "And she looks perfect\n",
        "I don't deserve this\n",
        "You look perfect tonight'''\n",
        "text3='''Oh, say can you see by the dawn’s early light\n",
        "What so proudly we hailed at the twilight’s last gleaming?\n",
        "Whose broad stripes and bright stars thru the perilous fight,\n",
        "O’er the ramparts we watched were so gallantly streaming?\n",
        "And the rocket’s red glare, the bombs bursting in air,\n",
        "Gave proof through the night that our flag was still there.\n",
        "Oh, say does that star-spangled banner yet wave\n",
        "O’er the land of the free and the home of the brave?\n",
        "\n",
        "On the shore, dimly seen through the mists of the deep,\n",
        "Where the foe’s haughty host in dread silence reposes,\n",
        "What is that which the breeze, o’er the towering steep,\n",
        "As it fitfully blows, half conceals, half discloses?\n",
        "Now it catches the gleam of the morning’s first beam,\n",
        "In full glory reflected now shines in the stream:\n",
        "‘Tis the star-spangled banner! Oh long may it wave\n",
        "O’er the land of the free and the home of the brave!\n",
        "\n",
        "And where is that band who so vauntingly swore\n",
        "That the havoc of war and the battle’s confusion,\n",
        "A home and a country should leave us no more!\n",
        "Their blood has washed out their foul footsteps’ pollution.\n",
        "No refuge could save the hireling and slave\n",
        "From the terror of flight, or the gloom of the grave:\n",
        "And the star-spangled banner in triumph doth wave\n",
        "O’er the land of the free and the home of the brave!\n",
        "\n",
        "Oh! thus be it ever, when freemen shall stand\n",
        "Between their loved home and the war’s desolation!\n",
        "Blest with victory and peace, may the heav’n rescued land\n",
        "Praise the Power that hath made and preserved us a nation.\n",
        "Then conquer we must, when our cause it is just,\n",
        "And this be our motto: “In God is our trust.”\n",
        "And the star-spangled banner in triumph shall wave\n",
        "O’er the land of the free and the home of the brave!'''"
      ],
      "metadata": {
        "id": "1L1RxFnhmcoB"
      },
      "execution_count": 20,
      "outputs": []
    },
    {
      "cell_type": "code",
      "source": [
        "from textblob import TextBlob\n",
        "from textblob.sentiments import NaiveBayesAnalyzer\n",
        "import nltk\n",
        "nltk.download('movie_reviews')\n",
        "\n",
        "blob = TextBlob(text3, analyzer=NaiveBayesAnalyzer())\n",
        "blob.sentiment"
      ],
      "metadata": {
        "colab": {
          "base_uri": "https://localhost:8080/"
        },
        "id": "YO2BPBVloxvK",
        "outputId": "4efce5c3-3ff4-47df-b84b-eb2f60eeb493"
      },
      "execution_count": 21,
      "outputs": [
        {
          "output_type": "stream",
          "name": "stderr",
          "text": [
            "[nltk_data] Downloading package movie_reviews to /root/nltk_data...\n",
            "[nltk_data]   Package movie_reviews is already up-to-date!\n"
          ]
        },
        {
          "output_type": "execute_result",
          "data": {
            "text/plain": [
              "Sentiment(classification='pos', p_pos=0.9995412546654601, p_neg=0.000458745334503982)"
            ]
          },
          "metadata": {},
          "execution_count": 21
        }
      ]
    },
    {
      "cell_type": "code",
      "source": [],
      "metadata": {
        "id": "Vp3D8PcToPu6"
      },
      "execution_count": null,
      "outputs": []
    }
  ]
}