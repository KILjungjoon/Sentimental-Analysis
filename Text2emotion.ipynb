{
  "nbformat": 4,
  "nbformat_minor": 0,
  "metadata": {
    "colab": {
      "provenance": [],
      "authorship_tag": "ABX9TyNnAQddCXuH54Pr+Ru4iW4Q",
      "include_colab_link": true
    },
    "kernelspec": {
      "name": "python3",
      "display_name": "Python 3"
    },
    "language_info": {
      "name": "python"
    }
  },
  "cells": [
    {
      "cell_type": "markdown",
      "metadata": {
        "id": "view-in-github",
        "colab_type": "text"
      },
      "source": [
        "<a href=\"https://colab.research.google.com/github/KILjungjoon/Sentimental-Analysis/blob/main/Text2emotion.ipynb\" target=\"_parent\"><img src=\"https://colab.research.google.com/assets/colab-badge.svg\" alt=\"Open In Colab\"/></a>"
      ]
    },
    {
      "cell_type": "markdown",
      "source": [
        "# Text2emotion\n",
        "* https://towardsdatascience.com/text2emotion-python-package-to-detect-emotions-from-textual-data-b2e7b7ce1153"
      ],
      "metadata": {
        "id": "GmuohACmULMH"
      }
    },
    {
      "cell_type": "code",
      "execution_count": 1,
      "metadata": {
        "colab": {
          "base_uri": "https://localhost:8080/"
        },
        "id": "ySUk7BwPR-2E",
        "outputId": "11af6049-ba26-4a52-be70-72bfa134c8f1"
      },
      "outputs": [
        {
          "output_type": "stream",
          "name": "stdout",
          "text": [
            "Looking in indexes: https://pypi.org/simple, https://us-python.pkg.dev/colab-wheels/public/simple/\n",
            "Requirement already satisfied: text2emotion in /usr/local/lib/python3.7/dist-packages (0.0.5)\n",
            "Requirement already satisfied: nltk in /usr/local/lib/python3.7/dist-packages (from text2emotion) (3.7)\n",
            "Requirement already satisfied: emoji>=0.6.0 in /usr/local/lib/python3.7/dist-packages (from text2emotion) (1.7.0)\n",
            "Requirement already satisfied: joblib in /usr/local/lib/python3.7/dist-packages (from nltk->text2emotion) (1.2.0)\n",
            "Requirement already satisfied: regex>=2021.8.3 in /usr/local/lib/python3.7/dist-packages (from nltk->text2emotion) (2022.6.2)\n",
            "Requirement already satisfied: tqdm in /usr/local/lib/python3.7/dist-packages (from nltk->text2emotion) (4.64.1)\n",
            "Requirement already satisfied: click in /usr/local/lib/python3.7/dist-packages (from nltk->text2emotion) (7.1.2)\n"
          ]
        }
      ],
      "source": [
        "#Install package using pip\n",
        "!pip install text2emotion"
      ]
    },
    {
      "cell_type": "code",
      "source": [
        "# update to the emoji library\n",
        "# https://stackoverflow.com/questions/73108683/getting-error-cannot-import-name-unicode-emoji-from-emoji-unicode-codes\n",
        "!pip uninstall emoji\n",
        "!pip install emoji==1.7"
      ],
      "metadata": {
        "colab": {
          "base_uri": "https://localhost:8080/"
        },
        "id": "zIu8DbzGTN2k",
        "outputId": "5e3b5785-eb99-451f-8757-4e7289d237b7"
      },
      "execution_count": 2,
      "outputs": [
        {
          "output_type": "stream",
          "name": "stdout",
          "text": [
            "Found existing installation: emoji 1.7.0\n",
            "Uninstalling emoji-1.7.0:\n",
            "  Would remove:\n",
            "    /usr/local/lib/python3.7/dist-packages/emoji-1.7.0.dist-info/*\n",
            "    /usr/local/lib/python3.7/dist-packages/emoji/*\n",
            "Proceed (y/n)? y\n",
            "  Successfully uninstalled emoji-1.7.0\n",
            "Looking in indexes: https://pypi.org/simple, https://us-python.pkg.dev/colab-wheels/public/simple/\n",
            "Collecting emoji==1.7\n",
            "  Using cached emoji-1.7.0-py3-none-any.whl\n",
            "Installing collected packages: emoji\n",
            "Successfully installed emoji-1.7.0\n"
          ]
        }
      ]
    },
    {
      "cell_type": "code",
      "source": [
        "#Import the modules\n",
        "import text2emotion as te"
      ],
      "metadata": {
        "colab": {
          "base_uri": "https://localhost:8080/"
        },
        "id": "VlRbzGDNSpUR",
        "outputId": "3f7b5f66-7e8d-4f18-9142-1f0906e7228b"
      },
      "execution_count": 3,
      "outputs": [
        {
          "output_type": "stream",
          "name": "stderr",
          "text": [
            "[nltk_data] Downloading package stopwords to /root/nltk_data...\n",
            "[nltk_data]   Package stopwords is already up-to-date!\n",
            "[nltk_data] Downloading package punkt to /root/nltk_data...\n",
            "[nltk_data]   Package punkt is already up-to-date!\n",
            "[nltk_data] Downloading package wordnet to /root/nltk_data...\n",
            "[nltk_data]   Package wordnet is already up-to-date!\n"
          ]
        }
      ]
    },
    {
      "cell_type": "code",
      "source": [
        "# Someone Like You\n",
        "text='''I heard that you're settled down\n",
        "That you found a girl and you're married now\n",
        "I heard that your dreams came true\n",
        "Guess she gave you things, I didn't give to you\n",
        "Old friend, why are you so shy?\n",
        "Ain't like you to hold back or hide from the light\n",
        "I hate to turn up out of the blue, uninvited\n",
        "But I couldn't stay away, I couldn't fight it\n",
        "I had hoped you'd see my face\n",
        "And that you'd be reminded that for me, it isn't over\n",
        "Never mind, I'll find someone like you\n",
        "I wish nothing but the best for you, too\n",
        "\"Don't forget me, \" I beg\n",
        "I remember you said\n",
        "\"Sometimes it lasts in love, but sometimes it hurts instead\"\n",
        "\"Sometimes it lasts in love, but sometimes it hurts instead\"\n",
        "You know how the time flies\n",
        "Only yesterday was the time of our lives\n",
        "We were born and raised in a summer haze\n",
        "Bound by the surprise of our glory days\n",
        "I hate to turn up out of the blue, uninvited\n",
        "But I couldn't stay away, I couldn't fight it\n",
        "I had hoped you'd see my face\n",
        "And that you'd be reminded that for me, it isn't over\n",
        "Never mind, I'll find someone like you\n",
        "I wish nothing but the best for you, too\n",
        "\"Don't forget me, \" I begged\n",
        "I remember you said\n",
        "\"Sometimes it lasts in love, but sometimes it hurts instead\"\n",
        "Nothing compares, no worries or cares\n",
        "Regrets and mistakes, they're memories made\n",
        "Who would have known how bittersweet this would taste?\n",
        "Never mind, I'll find someone like you\n",
        "I wish nothing but the best for you\n",
        "\"Don't forget me, \" I beg\n",
        "I remember you said\n",
        "\"Sometimes it lasts in love, but sometimes it hurts instead\"\n",
        "Never mind, I'll find someone like you\n",
        "I wish nothing but the best for you, too\n",
        "\"Don't forget me, \" I begged\n",
        "I remember you said\n",
        "\"Sometimes it lasts in love, but sometimes it hurts instead\"\n",
        "\"Sometimes it lasts in love, but sometimes it hurts instead\"'''"
      ],
      "metadata": {
        "id": "0AkZBk2ESZJH"
      },
      "execution_count": 4,
      "outputs": []
    },
    {
      "cell_type": "code",
      "source": [
        "#Call to the function\n",
        "import nltk\n",
        "nltk.download('omw-1.4')\n",
        "\n",
        "result=te.get_emotion(text)\n",
        "result.keys()"
      ],
      "metadata": {
        "colab": {
          "base_uri": "https://localhost:8080/"
        },
        "id": "7kbm_S6ySxzo",
        "outputId": "b59719a0-7230-4c31-8c9f-26b62f772d78"
      },
      "execution_count": 13,
      "outputs": [
        {
          "output_type": "stream",
          "name": "stderr",
          "text": [
            "[nltk_data] Downloading package omw-1.4 to /root/nltk_data...\n",
            "[nltk_data]   Package omw-1.4 is already up-to-date!\n"
          ]
        },
        {
          "output_type": "execute_result",
          "data": {
            "text/plain": [
              "dict_keys(['Happy', 'Angry', 'Surprise', 'Sad', 'Fear'])"
            ]
          },
          "metadata": {},
          "execution_count": 13
        }
      ]
    },
    {
      "cell_type": "code",
      "source": [
        "# Pie Chart (https://github.com/KILjungjoon/Python_Grammar/blob/main/PiePlot.ipynb)\n",
        "\n",
        "import matplotlib.pyplot as plt\n",
        "plt.rc('font', size=15)        # 기본 폰트 크기\n",
        "\n",
        "# labels =  [\"Majoritarian\", \"Combined\", \"PR\", \"No Directed Elections\"]\n",
        "labels = result.keys()\n",
        "# ratio = [91, 29, 64, 7]\n",
        "ratio = result.values()\n",
        "\n",
        "explode = [0.05, 0.05, 0.05, 0.05, 0.05]\n",
        "\n",
        "fig = plt.figure(figsize=(5,5)) ## 캔버스 생성\n",
        "fig.set_facecolor('white')   # 캔버스 배경색을 하얀색으로 설정\n",
        "plt.pie(ratio, labels=labels, autopct='%.1f%%', startangle=260, counterclock=False, explode=explode, shadow=True)\n",
        "plt.show()\n",
        "plt.savefig('emotion of Someone like you.png')"
      ],
      "metadata": {
        "colab": {
          "base_uri": "https://localhost:8080/",
          "height": 321
        },
        "id": "yN5v-zzsUrEy",
        "outputId": "d76e7223-e1f5-4f5b-8d5e-b187ac59a9eb"
      },
      "execution_count": 18,
      "outputs": [
        {
          "output_type": "display_data",
          "data": {
            "text/plain": [
              "<Figure size 360x360 with 1 Axes>"
            ],
            "image/png": "[encoded data removed]"
          },
          "metadata": {}
        },
        {
          "output_type": "display_data",
          "data": {
            "text/plain": [
              "<Figure size 432x288 with 0 Axes>"
            ]
          },
          "metadata": {}
        }
      ]
    }
  ]
}